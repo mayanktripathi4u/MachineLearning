{
 "cells": [
  {
   "cell_type": "markdown",
   "metadata": {},
   "source": [
    "Source : https://www.youtube.com/watch?v=igWjq3jtLYI&list=PLeo1K3hjS3uvMADnFjV1yg6E5nVU4kOob&index=4\n",
    "        \n",
    "Most common problem in data analysis is lack of uniformity in the structure of input data. \n",
    "Example : 5th Jan 2019 can be written as \n",
    "    2019-01-05\n",
    "    Jan 5, 2019\n",
    "    01/05/2019\n",
    "    2019.01.05\n",
    "    2019/01/05\n",
    "    etc..\n",
    "    \n",
    "We can use pandas to_datetime function to same format."
   ]
  },
  {
   "cell_type": "code",
   "execution_count": 1,
   "metadata": {
    "collapsed": true
   },
   "outputs": [],
   "source": [
    "import pandas as pd"
   ]
  },
  {
   "cell_type": "code",
   "execution_count": 7,
   "metadata": {},
   "outputs": [
    {
     "data": {
      "text/plain": [
       "['2019-01-05',\n",
       " '2019-05-01',\n",
       " 'Jan 5, 2019',\n",
       " '01/05/2019',\n",
       " '2019.01.05',\n",
       " '2019/01/05',\n",
       " '20190105',\n",
       " '20190501']"
      ]
     },
     "execution_count": 7,
     "metadata": {},
     "output_type": "execute_result"
    }
   ],
   "source": [
    "dates = ['2019-01-05', '2019-05-01', 'Jan 5, 2019', '01/05/2019', '2019.01.05', '2019/01/05', '20190105', '20190501']\n",
    "dates"
   ]
  },
  {
   "cell_type": "code",
   "execution_count": 8,
   "metadata": {},
   "outputs": [
    {
     "data": {
      "text/plain": [
       "DatetimeIndex(['2019-01-05', '2019-05-01', '2019-01-05', '2019-01-05',\n",
       "               '2019-01-05', '2019-01-05', '2019-01-05', '2019-05-01'],\n",
       "              dtype='datetime64[ns]', freq=None)"
      ]
     },
     "execution_count": 8,
     "metadata": {},
     "output_type": "execute_result"
    }
   ],
   "source": [
    "pd.to_datetime(dates)"
   ]
  },
  {
   "cell_type": "code",
   "execution_count": 9,
   "metadata": {},
   "outputs": [
    {
     "data": {
      "text/plain": [
       "DatetimeIndex(['2019-01-05 14:30:00', '2019-05-01 00:00:00',\n",
       "               '2019-01-05 14:30:00', '2019-01-05 00:00:00',\n",
       "               '2019-01-05 00:00:00', '2019-01-05 00:00:00',\n",
       "               '2019-01-05 00:00:00', '2019-05-01 00:00:00'],\n",
       "              dtype='datetime64[ns]', freq=None)"
      ]
     },
     "execution_count": 9,
     "metadata": {},
     "output_type": "execute_result"
    }
   ],
   "source": [
    "dates = ['2019-01-05 2:30:00 PM', '2019-05-01', 'Jan 5, 2019 14:30:00', '01/05/2019', '2019.01.05', '2019/01/05', '20190105', '20190501']\n",
    "pd.to_datetime(dates)"
   ]
  },
  {
   "cell_type": "markdown",
   "metadata": {},
   "source": [
    "# In Europe date format is dd/mm/yyyy, where as in US its mm/dd/yyyy\n",
    "How to handle it."
   ]
  },
  {
   "cell_type": "code",
   "execution_count": 10,
   "metadata": {},
   "outputs": [
    {
     "data": {
      "text/plain": [
       "Timestamp('2017-01-05 00:00:00')"
      ]
     },
     "execution_count": 10,
     "metadata": {},
     "output_type": "execute_result"
    }
   ],
   "source": [
    "# Lets say i define a date in EU format is 01 May 2019\n",
    "# dayfirst default to False.. ie US format is used. Set it to True to use EU format.\n",
    "\n",
    "pd.to_datetime('5/1/2017', dayfirst = True)"
   ]
  },
  {
   "cell_type": "code",
   "execution_count": 13,
   "metadata": {},
   "outputs": [
    {
     "name": "stdout",
     "output_type": "stream",
     "text": [
      "US Dates :  DatetimeIndex(['2019-01-05 14:30:00', '2019-05-01 00:00:00',\n",
      "               '2019-01-05 14:30:00', '2019-01-05 00:00:00',\n",
      "               '2019-01-05 00:00:00', '2019-01-05 00:00:00',\n",
      "               '2019-01-05 00:00:00', '2019-05-01 00:00:00'],\n",
      "              dtype='datetime64[ns]', freq=None)\n",
      "\n",
      "\n",
      "EU Dates :  DatetimeIndex(['2019-05-01 14:30:00', '2019-05-01 00:00:00',\n",
      "               '2019-01-05 14:30:00', '2019-05-01 00:00:00',\n",
      "               '2019-01-05 00:00:00', '2019-01-05 00:00:00',\n",
      "               '2019-01-05 00:00:00', '2019-05-01 00:00:00'],\n",
      "              dtype='datetime64[ns]', freq=None)\n"
     ]
    }
   ],
   "source": [
    "dates = ['2019-01-05 2:30:00 PM', '2019-05-01', 'Jan 5, 2019 14:30:00', '01/05/2019', '2019.01.05', '2019/01/05', '20190105', '20190501']\n",
    "print('US Dates : ', pd.to_datetime(dates))\n",
    "print('\\n')\n",
    "print('EU Dates : ', pd.to_datetime(dates, dayfirst = True))"
   ]
  },
  {
   "cell_type": "code",
   "execution_count": 14,
   "metadata": {},
   "outputs": [
    {
     "data": {
      "text/plain": [
       "Timestamp('2019-10-22 00:00:00')"
      ]
     },
     "execution_count": 14,
     "metadata": {},
     "output_type": "execute_result"
    }
   ],
   "source": [
    "# Custom format\n",
    "pd.to_datetime('22$10$2019', format = '%d$%m$%Y')"
   ]
  },
  {
   "cell_type": "code",
   "execution_count": 17,
   "metadata": {},
   "outputs": [
    {
     "name": "stdout",
     "output_type": "stream",
     "text": [
      "['abc' '2019-01-05 2:30:00 PM' '2019-05-01' 'Jan 5, 2019 14:30:00'\n",
      " '01/05/2019' '2019.01.05' '2019/01/05' '20190105' '20190501']\n",
      "\n",
      "\n",
      "DatetimeIndex([                'NaT', '2019-01-05 14:30:00',\n",
      "               '2019-05-01 00:00:00', '2019-01-05 14:30:00',\n",
      "               '2019-01-05 00:00:00', '2019-01-05 00:00:00',\n",
      "               '2019-01-05 00:00:00', '2019-01-05 00:00:00',\n",
      "               '2019-05-01 00:00:00'],\n",
      "              dtype='datetime64[ns]', freq=None)\n"
     ]
    }
   ],
   "source": [
    "# handle non-date in the data-set\n",
    "dates = ['abc', '2019-01-05 2:30:00 PM', '2019-05-01', 'Jan 5, 2019 14:30:00', '01/05/2019', '2019.01.05', '2019/01/05', '20190105', '20190501']\n",
    "print(pd.to_datetime(dates, errors = 'ignore')) # ignore the error and will not process the data.\n",
    "print('\\n')\n",
    "print(pd.to_datetime(dates, errors = 'coerce')) # Process the good data and set 'NaT' for bad data."
   ]
  },
  {
   "cell_type": "code",
   "execution_count": 18,
   "metadata": {},
   "outputs": [
    {
     "data": {
      "text/plain": [
       "Timestamp('2019-10-23 00:02:42')"
      ]
     },
     "execution_count": 18,
     "metadata": {},
     "output_type": "execute_result"
    }
   ],
   "source": [
    "# Epoch (Unix time) is number of seconds that have passed since 1 Jan 1970 00:00:00 UTC.\n",
    "# refer to site (time is in GMT) : https://www.epochconverter.com/\n",
    "epochTime = 1571788962\n",
    "pd.to_datetime(epochTime, unit = 's')\n",
    "# unit default is 'ns' for Nano Seconds. Where as the Epoch time is in Seconds."
   ]
  },
  {
   "cell_type": "code",
   "execution_count": 19,
   "metadata": {},
   "outputs": [
    {
     "data": {
      "text/plain": [
       "DatetimeIndex(['2019-10-23 00:02:42'], dtype='datetime64[ns]', freq=None)"
      ]
     },
     "execution_count": 19,
     "metadata": {},
     "output_type": "execute_result"
    }
   ],
   "source": [
    "pd.to_datetime([epochTime], unit = 's') # converting into a DatetimeIndex by using array of the variable.\n"
   ]
  },
  {
   "cell_type": "code",
   "execution_count": 20,
   "metadata": {},
   "outputs": [
    {
     "data": {
      "text/plain": [
       "DatetimeIndex(['2019-10-23 00:02:42'], dtype='datetime64[ns]', freq=None)"
      ]
     },
     "execution_count": 20,
     "metadata": {},
     "output_type": "execute_result"
    }
   ],
   "source": [
    "dt = pd.to_datetime([epochTime], unit = 's')\n",
    "dt"
   ]
  },
  {
   "cell_type": "code",
   "execution_count": 21,
   "metadata": {},
   "outputs": [
    {
     "data": {
      "text/plain": [
       "array([1571788962000000000], dtype=int64)"
      ]
     },
     "execution_count": 21,
     "metadata": {},
     "output_type": "execute_result"
    }
   ],
   "source": [
    "dt.view('int64') # Converting the date time into epoch time."
   ]
  },
  {
   "cell_type": "code",
   "execution_count": null,
   "metadata": {
    "collapsed": true
   },
   "outputs": [],
   "source": []
  }
 ],
 "metadata": {
  "kernelspec": {
   "display_name": "Python 3",
   "language": "python",
   "name": "python3"
  },
  "language_info": {
   "codemirror_mode": {
    "name": "ipython",
    "version": 3
   },
   "file_extension": ".py",
   "mimetype": "text/x-python",
   "name": "python",
   "nbconvert_exporter": "python",
   "pygments_lexer": "ipython3",
   "version": "3.6.3"
  }
 },
 "nbformat": 4,
 "nbformat_minor": 2
}
