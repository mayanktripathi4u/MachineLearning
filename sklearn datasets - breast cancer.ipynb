{
 "cells": [
  {
   "cell_type": "code",
   "execution_count": 1,
   "metadata": {
    "collapsed": true
   },
   "outputs": [],
   "source": [
    "import sklearn\n",
    "from sklearn import datasets\n",
    "from sklearn import svm\n",
    "from sklearn import metrics\n",
    "from sklearn.neighbors import KNeighborsClassifier"
   ]
  },
  {
   "cell_type": "code",
   "execution_count": 2,
   "metadata": {
    "collapsed": true
   },
   "outputs": [],
   "source": [
    "cancer = datasets.load_breast_cancer()"
   ]
  },
  {
   "cell_type": "code",
   "execution_count": 3,
   "metadata": {},
   "outputs": [
    {
     "name": "stdout",
     "output_type": "stream",
     "text": [
      "['mean radius' 'mean texture' 'mean perimeter' 'mean area'\n",
      " 'mean smoothness' 'mean compactness' 'mean concavity'\n",
      " 'mean concave points' 'mean symmetry' 'mean fractal dimension'\n",
      " 'radius error' 'texture error' 'perimeter error' 'area error'\n",
      " 'smoothness error' 'compactness error' 'concavity error'\n",
      " 'concave points error' 'symmetry error' 'fractal dimension error'\n",
      " 'worst radius' 'worst texture' 'worst perimeter' 'worst area'\n",
      " 'worst smoothness' 'worst compactness' 'worst concavity'\n",
      " 'worst concave points' 'worst symmetry' 'worst fractal dimension']\n",
      "--------------------------------------------------\n",
      "['malignant' 'benign']\n"
     ]
    }
   ],
   "source": [
    "print(cancer.feature_names)\n",
    "print('-'*50)\n",
    "print(cancer.target_names)"
   ]
  },
  {
   "cell_type": "code",
   "execution_count": 4,
   "metadata": {
    "collapsed": true
   },
   "outputs": [],
   "source": [
    "x = cancer.data\n",
    "y = cancer.target"
   ]
  },
  {
   "cell_type": "code",
   "execution_count": 5,
   "metadata": {
    "collapsed": true
   },
   "outputs": [],
   "source": [
    "x_train, x_valid, y_train, y_valid = sklearn.model_selection.train_test_split(x,y,test_size = 0.2)"
   ]
  },
  {
   "cell_type": "code",
   "execution_count": 6,
   "metadata": {},
   "outputs": [
    {
     "name": "stdout",
     "output_type": "stream",
     "text": [
      "Accuracy Score for SVM with gamma = auto parameter :  0.666666666667\n"
     ]
    }
   ],
   "source": [
    "svm_gamma_clf = svm.SVC(gamma = 'auto')\n",
    "svm_gamma_clf.fit(x_train, y_train)\n",
    "y_pred_svm_gamma = svm_gamma_clf.predict(x_valid)\n",
    "print(\"Accuracy Score for SVM with gamma = auto parameter : \", metrics.accuracy_score(y_valid, y_pred_svm_gamma))"
   ]
  },
  {
   "cell_type": "code",
   "execution_count": 7,
   "metadata": {},
   "outputs": [
    {
     "name": "stdout",
     "output_type": "stream",
     "text": [
      "Accuracy Score for SVM with kernel = linear parameter :  0.947368421053\n"
     ]
    }
   ],
   "source": [
    "svm_linear_clf = svm.SVC(kernel = 'linear')\n",
    "svm_linear_clf.fit(x_train, y_train)\n",
    "y_pred_svm_lnr = svm_linear_clf.predict(x_valid)\n",
    "print(\"Accuracy Score for SVM with kernel = linear parameter : \", metrics.accuracy_score(y_valid, y_pred_svm_lnr))"
   ]
  },
  {
   "cell_type": "code",
   "execution_count": null,
   "metadata": {
    "collapsed": true
   },
   "outputs": [],
   "source": [
    "# Takes ages to execute.. so skipped.\n",
    "# svm_poly_clf = svm.SVC(kernel = 'poly')\n",
    "# svm_polyr_clf.fit(x_train, y_train)\n",
    "# y_pred_svm_poly = svm_poly_clf.predict(x_valid)\n",
    "# print(\"Accuracy Score for SVM with kernel = poly parameter : \", metrics.accuracy_score(y_valid, y_pred_svm_poly))"
   ]
  },
  {
   "cell_type": "code",
   "execution_count": 8,
   "metadata": {},
   "outputs": [
    {
     "name": "stdout",
     "output_type": "stream",
     "text": [
      "Accuracy Score for KNeighborsClassifier with 9 as parameter :  0.929824561404\n"
     ]
    }
   ],
   "source": [
    "knc_9 = KNeighborsClassifier(n_neighbors=9)\n",
    "knc_9.fit(x_train, y_train)\n",
    "y_pred_knc_9 = knc_9.predict(x_valid)\n",
    "print(\"Accuracy Score for KNeighborsClassifier with 9 as parameter : \", metrics.accuracy_score(y_valid, y_pred_knc_9))"
   ]
  },
  {
   "cell_type": "code",
   "execution_count": null,
   "metadata": {
    "collapsed": true
   },
   "outputs": [],
   "source": []
  }
 ],
 "metadata": {
  "kernelspec": {
   "display_name": "Python 3",
   "language": "python",
   "name": "python3"
  },
  "language_info": {
   "codemirror_mode": {
    "name": "ipython",
    "version": 3
   },
   "file_extension": ".py",
   "mimetype": "text/x-python",
   "name": "python",
   "nbconvert_exporter": "python",
   "pygments_lexer": "ipython3",
   "version": "3.6.3"
  }
 },
 "nbformat": 4,
 "nbformat_minor": 2
}
