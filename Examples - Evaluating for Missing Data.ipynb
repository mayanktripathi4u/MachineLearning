{
 "cells": [
  {
   "cell_type": "code",
   "execution_count": 2,
   "metadata": {},
   "outputs": [],
   "source": [
    "import pandas as pd\n",
    "import numpy as np"
   ]
  },
  {
   "cell_type": "code",
   "execution_count": 3,
   "metadata": {},
   "outputs": [
    {
     "data": {
      "text/html": [
       "<div>\n",
       "<style>\n",
       "    .dataframe thead tr:only-child th {\n",
       "        text-align: right;\n",
       "    }\n",
       "\n",
       "    .dataframe thead th {\n",
       "        text-align: left;\n",
       "    }\n",
       "\n",
       "    .dataframe tbody tr th {\n",
       "        vertical-align: top;\n",
       "    }\n",
       "</style>\n",
       "<table border=\"1\" class=\"dataframe\">\n",
       "  <thead>\n",
       "    <tr style=\"text-align: right;\">\n",
       "      <th></th>\n",
       "      <th>0</th>\n",
       "      <th>1</th>\n",
       "      <th>2</th>\n",
       "      <th>3</th>\n",
       "      <th>4</th>\n",
       "    </tr>\n",
       "  </thead>\n",
       "  <tbody>\n",
       "    <tr>\n",
       "      <th>0</th>\n",
       "      <td>1.173105</td>\n",
       "      <td>-0.151731</td>\n",
       "      <td>-0.155532</td>\n",
       "      <td>0.237192</td>\n",
       "      <td>1.150662</td>\n",
       "    </tr>\n",
       "    <tr>\n",
       "      <th>1</th>\n",
       "      <td>0.518851</td>\n",
       "      <td>-0.813786</td>\n",
       "      <td>0.357358</td>\n",
       "      <td>1.132077</td>\n",
       "      <td>-1.137039</td>\n",
       "    </tr>\n",
       "    <tr>\n",
       "      <th>2</th>\n",
       "      <td>-0.779779</td>\n",
       "      <td>-0.555208</td>\n",
       "      <td>-0.418976</td>\n",
       "      <td>-2.444600</td>\n",
       "      <td>-0.158618</td>\n",
       "    </tr>\n",
       "    <tr>\n",
       "      <th>3</th>\n",
       "      <td>-0.813416</td>\n",
       "      <td>0.630976</td>\n",
       "      <td>0.053594</td>\n",
       "      <td>-0.270843</td>\n",
       "      <td>-0.321203</td>\n",
       "    </tr>\n",
       "    <tr>\n",
       "      <th>4</th>\n",
       "      <td>1.244560</td>\n",
       "      <td>-0.290644</td>\n",
       "      <td>-0.991455</td>\n",
       "      <td>-0.213903</td>\n",
       "      <td>0.416130</td>\n",
       "    </tr>\n",
       "  </tbody>\n",
       "</table>\n",
       "</div>"
      ],
      "text/plain": [
       "          0         1         2         3         4\n",
       "0  1.173105 -0.151731 -0.155532  0.237192  1.150662\n",
       "1  0.518851 -0.813786  0.357358  1.132077 -1.137039\n",
       "2 -0.779779 -0.555208 -0.418976 -2.444600 -0.158618\n",
       "3 -0.813416  0.630976  0.053594 -0.270843 -0.321203\n",
       "4  1.244560 -0.290644 -0.991455 -0.213903  0.416130"
      ]
     },
     "execution_count": 3,
     "metadata": {},
     "output_type": "execute_result"
    }
   ],
   "source": [
    "df = pd.DataFrame(np.random.randn(5,5))\n",
    "df"
   ]
  },
  {
   "cell_type": "code",
   "execution_count": 4,
   "metadata": {},
   "outputs": [
    {
     "data": {
      "text/html": [
       "<div>\n",
       "<style>\n",
       "    .dataframe thead tr:only-child th {\n",
       "        text-align: right;\n",
       "    }\n",
       "\n",
       "    .dataframe thead th {\n",
       "        text-align: left;\n",
       "    }\n",
       "\n",
       "    .dataframe tbody tr th {\n",
       "        vertical-align: top;\n",
       "    }\n",
       "</style>\n",
       "<table border=\"1\" class=\"dataframe\">\n",
       "  <thead>\n",
       "    <tr style=\"text-align: right;\">\n",
       "      <th></th>\n",
       "      <th>0</th>\n",
       "      <th>1</th>\n",
       "      <th>2</th>\n",
       "      <th>3</th>\n",
       "      <th>4</th>\n",
       "    </tr>\n",
       "  </thead>\n",
       "  <tbody>\n",
       "    <tr>\n",
       "      <th>0</th>\n",
       "      <td>NaN</td>\n",
       "      <td>-0.151731</td>\n",
       "      <td>-0.155532</td>\n",
       "      <td>0.237192</td>\n",
       "      <td>NaN</td>\n",
       "    </tr>\n",
       "    <tr>\n",
       "      <th>1</th>\n",
       "      <td>0.518851</td>\n",
       "      <td>-0.813786</td>\n",
       "      <td>0.357358</td>\n",
       "      <td>NaN</td>\n",
       "      <td>-1.137039</td>\n",
       "    </tr>\n",
       "    <tr>\n",
       "      <th>2</th>\n",
       "      <td>-0.779779</td>\n",
       "      <td>-0.555208</td>\n",
       "      <td>-0.418976</td>\n",
       "      <td>-2.444600</td>\n",
       "      <td>-0.158618</td>\n",
       "    </tr>\n",
       "    <tr>\n",
       "      <th>3</th>\n",
       "      <td>-0.813416</td>\n",
       "      <td>0.630976</td>\n",
       "      <td>0.053594</td>\n",
       "      <td>-0.270843</td>\n",
       "      <td>-0.321203</td>\n",
       "    </tr>\n",
       "    <tr>\n",
       "      <th>4</th>\n",
       "      <td>NaN</td>\n",
       "      <td>-0.290644</td>\n",
       "      <td>-0.991455</td>\n",
       "      <td>-0.213903</td>\n",
       "      <td>0.416130</td>\n",
       "    </tr>\n",
       "  </tbody>\n",
       "</table>\n",
       "</div>"
      ],
      "text/plain": [
       "          0         1         2         3         4\n",
       "0       NaN -0.151731 -0.155532  0.237192       NaN\n",
       "1  0.518851 -0.813786  0.357358       NaN -1.137039\n",
       "2 -0.779779 -0.555208 -0.418976 -2.444600 -0.158618\n",
       "3 -0.813416  0.630976  0.053594 -0.270843 -0.321203\n",
       "4       NaN -0.290644 -0.991455 -0.213903  0.416130"
      ]
     },
     "execution_count": 4,
     "metadata": {},
     "output_type": "execute_result"
    }
   ],
   "source": [
    "df[df > 0.9] = pd.np.nan\n",
    "df"
   ]
  },
  {
   "cell_type": "code",
   "execution_count": 5,
   "metadata": {},
   "outputs": [
    {
     "data": {
      "text/plain": [
       "0    2\n",
       "1    0\n",
       "2    0\n",
       "3    1\n",
       "4    1\n",
       "dtype: int64"
      ]
     },
     "execution_count": 5,
     "metadata": {},
     "output_type": "execute_result"
    }
   ],
   "source": [
    "# Now if we chain a .sum() method on, instead of getting the total sum of missing values, we’re given a list of all the summations of each column:\n",
    "df.isnull().sum()"
   ]
  },
  {
   "cell_type": "code",
   "execution_count": 6,
   "metadata": {},
   "outputs": [
    {
     "data": {
      "text/plain": [
       "4"
      ]
     },
     "execution_count": 6,
     "metadata": {},
     "output_type": "execute_result"
    }
   ],
   "source": [
    "# We can see in this example, our first column contains three missing values, along with one each in column 2 and 3 as well.\n",
    "\n",
    "# In order to get the total summation of all missing values in the DataFrame, we chain two .sum() methods together:\n",
    "\n",
    "df.isnull().sum().sum()"
   ]
  },
  {
   "cell_type": "code",
   "execution_count": 7,
   "metadata": {
    "collapsed": true
   },
   "outputs": [],
   "source": [
    "# let’s create a simple Series in pandas\n",
    "s = pd.Series([2,3,np.nan,7,\"The Hobbit\"])"
   ]
  },
  {
   "cell_type": "code",
   "execution_count": 8,
   "metadata": {},
   "outputs": [
    {
     "data": {
      "text/plain": [
       "0    False\n",
       "1    False\n",
       "2     True\n",
       "3    False\n",
       "4    False\n",
       "dtype: bool"
      ]
     },
     "execution_count": 8,
     "metadata": {},
     "output_type": "execute_result"
    }
   ],
   "source": [
    "# To test the isnull() method on this series, we can use s.isnull() and view the output\n",
    "s.isnull()"
   ]
  },
  {
   "cell_type": "code",
   "execution_count": 9,
   "metadata": {},
   "outputs": [
    {
     "data": {
      "text/plain": [
       "True"
      ]
     },
     "execution_count": 9,
     "metadata": {},
     "output_type": "execute_result"
    }
   ],
   "source": [
    "# As expected, the only value evaluated as missing is index 2.\n",
    "# While the isnull() method is useful, sometimes we may wish to evaluate whether any value is missing in a Series.\n",
    "# There are a few possibilities involving chaining multiple methods together.\n",
    "# The fastest method is performed by chaining .values.any():\n",
    "s.isnull().values.any()"
   ]
  },
  {
   "cell_type": "code",
   "execution_count": 10,
   "metadata": {},
   "outputs": [
    {
     "data": {
      "text/plain": [
       "1"
      ]
     },
     "execution_count": 10,
     "metadata": {},
     "output_type": "execute_result"
    }
   ],
   "source": [
    "# In some cases, you may wish to determine how many missing values exist in the collection, in which case you can use .sum() chained on\n",
    "s.isnull().sum()"
   ]
  },
  {
   "cell_type": "code",
   "execution_count": null,
   "metadata": {
    "collapsed": true
   },
   "outputs": [],
   "source": []
  }
 ],
 "metadata": {
  "kernelspec": {
   "display_name": "Python 3",
   "language": "python",
   "name": "python3"
  }
 },
 "nbformat": 4,
 "nbformat_minor": 2
}
